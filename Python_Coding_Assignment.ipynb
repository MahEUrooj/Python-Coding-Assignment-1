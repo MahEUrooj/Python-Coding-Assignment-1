{
  "nbformat": 4,
  "nbformat_minor": 0,
  "metadata": {
    "colab": {
      "name": "Python Coding Assignment.ipynb",
      "provenance": [],
      "collapsed_sections": []
    },
    "kernelspec": {
      "name": "python3",
      "display_name": "Python 3"
    },
    "language_info": {
      "name": "python"
    }
  },
  "cells": [
    {
      "cell_type": "markdown",
      "source": [
        "Q.1: Write a program to reverse an integer in python."
      ],
      "metadata": {
        "id": "rFSmTxduDegX"
      }
    },
    {
      "cell_type": "code",
      "source": [
        "#Taking integer input from user\n",
        "original_number=int(input(\"Enter a number: \"))\n",
        "\n",
        "#Initializing reversed value\n",
        "reversed=0\n",
        "\n",
        "#Creating a while loop\n",
        "#Performing calculations for reverse number\n",
        "while(original_number!=0):\n",
        "  r=int(original_number%10)\n",
        "  reversed=reversed*10+r\n",
        "  original_number=int(original_number/10)\n",
        "\n",
        "#Getting final output through print function\n",
        "print(\"The reversed number is: \")\n",
        "print(reversed)\n"
      ],
      "metadata": {
        "colab": {
          "base_uri": "https://localhost:8080/"
        },
        "id": "MAlQyKHa7Dtg",
        "outputId": "dc74a078-8ec6-48fa-d6af-8944e3d58434"
      },
      "execution_count": 5,
      "outputs": [
        {
          "output_type": "stream",
          "name": "stdout",
          "text": [
            "Enter a number: 123456789\n",
            "The reversed number is: \n",
            "987654321\n"
          ]
        }
      ]
    },
    {
      "cell_type": "markdown",
      "source": [
        "Q2) Write a program in Python to check whether an integer is Armstrong number\n",
        "or not."
      ],
      "metadata": {
        "id": "SgpDyF-fAgRV"
      }
    },
    {
      "cell_type": "code",
      "source": [
        "#Creating an empty list a\n",
        "a = []\n",
        "\n",
        "#Taking number as input\n",
        "b = input(\"Enter number: \")\n",
        "\n",
        "#Running a for loop\n",
        "for i in b:\n",
        "  a.append(i)\n",
        "print(a)\n",
        "\n",
        "#Creating an empty list\n",
        "c=[]\n",
        "for j in range(len(a)):\n",
        "  c.append(int(a[j]))\n",
        "print(c)\n",
        "\n",
        "#Creating an empty list d\n",
        "d=[]\n",
        "for k in range(len(c)):\n",
        "  d.append(c[k]**3)\n",
        "print(d)\n",
        "\n",
        "#Creating variable final and assigning sum value to it\n",
        "final=sum(d)\n",
        "print(int(final))\n",
        "\n",
        "#Creating a variable c\n",
        "c=int(b)\n",
        "\n",
        "#Using if and elif condition\n",
        "if (final==c):\n",
        "  print(b,\" is an Armstrong number\")\n",
        "elif (final!=c):\n",
        "  print(b,\" is not an Armstrong number\")\n",
        "else:\n",
        "  print(b,\" is wrong input\")"
      ],
      "metadata": {
        "id": "cyCQ2_BcNI80",
        "colab": {
          "base_uri": "https://localhost:8080/"
        },
        "outputId": "37c8a220-e6f6-4e70-c05f-f70bf3619d38"
      },
      "execution_count": 6,
      "outputs": [
        {
          "output_type": "stream",
          "name": "stdout",
          "text": [
            "Enter number: 153\n",
            "['1', '5', '3']\n",
            "[1, 5, 3]\n",
            "[1, 125, 27]\n",
            "153\n",
            "153  is an Armstrong number\n"
          ]
        }
      ]
    },
    {
      "cell_type": "markdown",
      "source": [
        "Q.3: Wrtite a program in python to check given number is prime or not."
      ],
      "metadata": {
        "id": "fftbQxu5Dskf"
      }
    },
    {
      "cell_type": "code",
      "source": [
        "#Taking integer input from user\n",
        "numb=int(input(\"Enter a number: \"))\n",
        "\n",
        "#Prime number is greater than one alwat=ys\n",
        "if numb>1:\n",
        "  for i in range(2, numb):\n",
        "    if(numb%i)==0:\n",
        "      print(numb, \"is not prime number.\")\n",
        "      break\n",
        "  else:\n",
        "    print(numb,\"is a prime number.\")\n",
        "\n",
        "#The user input number if less than or equal to the number is not prime else prime number\n",
        "else:\n",
        "  print(numb, \"is not a prime number.\")\n",
        "\n"
      ],
      "metadata": {
        "colab": {
          "base_uri": "https://localhost:8080/"
        },
        "id": "Wy9Lca30-7YN",
        "outputId": "1dc23333-e894-4361-b81e-86e08d3c008a"
      },
      "execution_count": 7,
      "outputs": [
        {
          "output_type": "stream",
          "name": "stdout",
          "text": [
            "Enter a number: 83\n",
            "83 is a prime number.\n"
          ]
        }
      ]
    },
    {
      "cell_type": "markdown",
      "source": [
        "Q.4: Write a program in poython to print the Fibonacci series using iterative method."
      ],
      "metadata": {
        "id": "jnFVqivpD47m"
      }
    },
    {
      "cell_type": "code",
      "source": [
        "#Assigning variable p and q values of 1\n",
        "p=1\n",
        "q=1\n",
        "\n",
        "#Taking integer input from user\n",
        "number=int(input(\"Enter a number of terms in the sequence: \"))\n",
        "print(p,q,end=\" \")\n",
        "\n",
        "#Creating a while loop\n",
        "#Fibonacci number the next number is found by adding the last two numbers\n",
        "while(number-2):\n",
        "  r=p+q\n",
        "  p,q=q,r\n",
        "  print(r,end=\" \")\n",
        "  number=number-1"
      ],
      "metadata": {
        "colab": {
          "base_uri": "https://localhost:8080/"
        },
        "id": "zAiVYQ5UCfAH",
        "outputId": "9e8be6bc-9cf9-4105-a907-20abcc0b30da"
      },
      "execution_count": 8,
      "outputs": [
        {
          "output_type": "stream",
          "name": "stdout",
          "text": [
            "Enter a number of terms in the sequence: 5\n",
            "1 1 2 3 5 "
          ]
        }
      ]
    },
    {
      "cell_type": "markdown",
      "source": [
        "Q.5: Write a program in Python to check whether a number is palindrome or not using iterative method."
      ],
      "metadata": {
        "id": "Kufs2H2gH2So"
      }
    },
    {
      "cell_type": "code",
      "source": [
        "num=int(input(\"Enter a number: \"))\n",
        "#Store numb in x\n",
        "x=num\n",
        "\n",
        "#Initializing variable rev_num equal to 0\n",
        "rev_num=0\n",
        "\n",
        "#Running a while loop\n",
        "#Palindrome is a number that reads the same number backward as forward\n",
        "while(num>0):\n",
        "  digit=num%10\n",
        "  rev_num=rev_num*10+digit\n",
        "  num=num//10\n",
        "if(x==rev_num):\n",
        "  print(\"The entered number is a palindrome!\")\n",
        "else:\n",
        "  print(\"The entered number is not a palindrome!\")"
      ],
      "metadata": {
        "colab": {
          "base_uri": "https://localhost:8080/"
        },
        "id": "5W2Hc6_nFX4E",
        "outputId": "dc7fa459-dad8-460c-92d4-cf68c5679280"
      },
      "execution_count": 9,
      "outputs": [
        {
          "output_type": "stream",
          "name": "stdout",
          "text": [
            "Enter a number: 171171\n",
            "The entered number is a palindrome!\n"
          ]
        }
      ]
    },
    {
      "cell_type": "markdown",
      "source": [
        ""
      ],
      "metadata": {
        "id": "aKv_97p-ZLq2"
      }
    },
    {
      "cell_type": "code",
      "source": [
        "Q.6: Write a program in Python to find greatest among three numbers."
      ],
      "metadata": {
        "id": "ceGXxLFuG1CJ",
        "colab": {
          "base_uri": "https://localhost:8080/",
          "height": 130
        },
        "outputId": "fb961f82-5c03-4f0f-d801-3c9b449d53f7"
      },
      "execution_count": 12,
      "outputs": [
        {
          "output_type": "error",
          "ename": "SyntaxError",
          "evalue": "ignored",
          "traceback": [
            "\u001b[0;36m  File \u001b[0;32m\"<ipython-input-12-c3f3277e54f6>\"\u001b[0;36m, line \u001b[0;32m1\u001b[0m\n\u001b[0;31m    Q.6: Write a program in Python to find greatest among three numbers.\u001b[0m\n\u001b[0m      ^\u001b[0m\n\u001b[0;31mSyntaxError\u001b[0m\u001b[0;31m:\u001b[0m invalid syntax\n"
          ]
        }
      ]
    },
    {
      "cell_type": "code",
      "source": [
        "#Taking three float numbers input from user\n",
        "\n",
        "number_1=float(input(\"Enter first number: \"))\n",
        "number_2=float(input(\"Enter second number: \"))\n",
        "number_3=float(input(\"Enter third number: \"))\n",
        "\n",
        "#Using if, elif and else conditions to check and and logical operator also\n",
        "if(number_1>number_2) and (number_1>number_3):\n",
        "  largest=number_1\n",
        "  print(\"The largest number is: \",number_1)\n",
        "elif(number_2>number_1)and(number_2>number_3):\n",
        "  largest=number_2\n",
        "  print(\"The largest number is: \",number_2)\n",
        "else:\n",
        "  largest= number_3  \n",
        "  print(\"The largest number is: \",number_3)"
      ],
      "metadata": {
        "colab": {
          "base_uri": "https://localhost:8080/"
        },
        "id": "YkYyjcFhINFx",
        "outputId": "fa321ec0-3253-4ec7-d3e4-75cc7a42f58f"
      },
      "execution_count": 16,
      "outputs": [
        {
          "output_type": "stream",
          "name": "stdout",
          "text": [
            "Enter first number: 56\n",
            "Enter second number: 90\n",
            "Enter third number: 800\n",
            "The largest number is:  800.0\n"
          ]
        }
      ]
    },
    {
      "cell_type": "markdown",
      "source": [
        "Q.7: Write a program in python to check if a number is binary.\n"
      ],
      "metadata": {
        "id": "LRWS3u3bKPbO"
      }
    },
    {
      "cell_type": "code",
      "source": [
        "#Taking number integer as input\n",
        "number=int(input(\"Enter a number: \"))\n",
        "\n",
        "#Using while loop to check with the help of if condition the number is binary or not\n",
        "while(number>0):\n",
        "  a=number%10\n",
        "  if a!=0 and a!=1:\n",
        "    print(\"The given number is not a binary number\")\n",
        "    break\n",
        "  number=number//10\n",
        "  if number==0:\n",
        "    print(\"Number is a binary number\")"
      ],
      "metadata": {
        "colab": {
          "base_uri": "https://localhost:8080/"
        },
        "id": "Ke6-q1AEIm_I",
        "outputId": "1255bc15-7656-4a43-f839-c6ac4adc8006"
      },
      "execution_count": 17,
      "outputs": [
        {
          "output_type": "stream",
          "name": "stdout",
          "text": [
            "Enter a number: 10010101\n",
            "Number is a binary number\n"
          ]
        }
      ]
    },
    {
      "cell_type": "markdown",
      "source": [
        "Q.8: Write a program in Python to find sum of digits."
      ],
      "metadata": {
        "id": "Tuv6TkodL8OV"
      }
    },
    {
      "cell_type": "code",
      "source": [
        "#Taking integer input from user\n",
        "number=int(input(\"Enter a number: \"))\n",
        "\n",
        "#Initializing variable total to a value of 0\n",
        "total=0\n",
        "\n",
        "#Running a while loop and performing calculations\n",
        "while(number>0):\n",
        "  digit=number%10\n",
        "  total=total+digit\n",
        "  number=number//10\n",
        "print(\"The total sum of all digits present in this number is: \",total)\n"
      ],
      "metadata": {
        "colab": {
          "base_uri": "https://localhost:8080/"
        },
        "id": "bjtUzBqQKwas",
        "outputId": "73673a0d-987b-45ba-ab1e-ca6a3a0f8ad4"
      },
      "execution_count": 18,
      "outputs": [
        {
          "output_type": "stream",
          "name": "stdout",
          "text": [
            "Enter a number: 4567\n",
            "The total sum of all digits present in this number is:  22\n"
          ]
        }
      ]
    },
    {
      "cell_type": "markdown",
      "source": [
        "Q.9: Write a program in python to swap two numbers without using third variable."
      ],
      "metadata": {
        "id": "2DfAwuZTOVoa"
      }
    },
    {
      "cell_type": "code",
      "source": [
        "#Taking two integer input from user\n",
        "a=int(input(\"Enter the value of a: \"))\n",
        "b=int(input(\"Enter the value of b: \"))\n",
        "print(\"Numbers before swapping are: %d %d\" \"\\n\"%(a,b))\n",
        "\n",
        "#Swapping two numbers\n",
        "a=a+b\n",
        "b=a-b\n",
        "a=a-b\n",
        "\n",
        "print(\"Numbers after swapping are: %d  %d\" \"\\n\" %(a,b))\n"
      ],
      "metadata": {
        "colab": {
          "base_uri": "https://localhost:8080/"
        },
        "id": "dCPI_pt5Mer6",
        "outputId": "0a1c377c-99f4-4f8e-b4e1-b462fd3425a6"
      },
      "execution_count": 19,
      "outputs": [
        {
          "output_type": "stream",
          "name": "stdout",
          "text": [
            "Enter the value of a: 23\n",
            "Enter the value of b: 99\n",
            "Numbers before swapping are: 23 99\n",
            "\n",
            "Numbers after swapping are: 99  23\n",
            "\n"
          ]
        }
      ]
    },
    {
      "cell_type": "markdown",
      "source": [
        "Q10) Write a program in Python to swap two numbers using third variable?"
      ],
      "metadata": {
        "id": "xaL1pGXu4Zcd"
      }
    },
    {
      "cell_type": "code",
      "source": [
        "#Taking two integers as input\n",
        "number_1=int(input(\"Enter the first value: \"))\n",
        "number_2=int(input(\"Enter the second value: \"))\n",
        "print(\"Values of numbers before swapping is: \",\"\\n\",number_1,number_2)\n",
        "\n",
        "#To swap two numbers using third variable\n",
        "digit=number_1\n",
        "number_1=number_2\n",
        "number_2=digit\n",
        "print(\"\\n\"\"Variable values after swapping are: \", number_1,number_2)"
      ],
      "metadata": {
        "colab": {
          "base_uri": "https://localhost:8080/"
        },
        "id": "tWlipKr-O83Q",
        "outputId": "7ad7e08d-e721-4c66-aa6c-c6bbb1750163"
      },
      "execution_count": 20,
      "outputs": [
        {
          "output_type": "stream",
          "name": "stdout",
          "text": [
            "Enter the first value: 12\n",
            "Enter the second value: 56\n",
            "Values of numbers before swapping is:  \n",
            " 12 56\n",
            "\n",
            "Variable values after swapping are:  56 12\n"
          ]
        }
      ]
    },
    {
      "cell_type": "markdown",
      "source": [
        "Q11) Python program to find average of numbers."
      ],
      "metadata": {
        "id": "EelaSOnm4i4l"
      }
    },
    {
      "cell_type": "code",
      "source": [
        "#Taking integer input from user\n",
        "n=int(input(\"Enter the value of n: \"))\n",
        "print(\"Enter\" ,str(n), \" numeric values: \")\n",
        "numbers=[]\n",
        "\n",
        "#Running a for loop in order to find average of numbers\n",
        "for a in range (n):\n",
        "  numbers.insert(a, int(input()))\n",
        "sum=0\n",
        "for a in range (n):\n",
        "  sum=sum+numbers[a]\n",
        "\n",
        "(\"\\n\")\n",
        "print(\"The sum of values is: \",sum)\n",
        "(\"\\n\")\n",
        "average=sum/n\n",
        "print(\"\\n\"\"The average of numbers is: \", average)"
      ],
      "metadata": {
        "id": "LAVqEr22RATe",
        "colab": {
          "base_uri": "https://localhost:8080/"
        },
        "outputId": "5fd9b471-7a8e-4402-edf9-4d504c58acaa"
      },
      "execution_count": 22,
      "outputs": [
        {
          "output_type": "stream",
          "name": "stdout",
          "text": [
            "Enter the value of n: 5\n",
            "Enter 5  numeric values: \n",
            "12\n",
            "18\n",
            "2\n",
            "1\n",
            "10\n",
            "The sum of values is:  43\n",
            "\n",
            "The average of numbers is:  8.6\n"
          ]
        }
      ]
    },
    {
      "cell_type": "markdown",
      "source": [
        "Q12) Python program to calculate factorial using iterative method."
      ],
      "metadata": {
        "id": "aHerPgiW_jQB"
      }
    },
    {
      "cell_type": "code",
      "source": [
        "#A function is defined using def keyword\n",
        "def iterative_factorial (n):\n",
        "#Using for loop for iterative function\n",
        "  value=1\n",
        "  for x in range (n, 0 ,-1):\n",
        "    value=value*x\n",
        "  return value\n",
        "print(iterative_factorial(9))\n"
      ],
      "metadata": {
        "colab": {
          "base_uri": "https://localhost:8080/"
        },
        "id": "lYwJRknDkmzK",
        "outputId": "4cbcae0a-991d-4ab4-8a6f-4402ac217720"
      },
      "execution_count": 23,
      "outputs": [
        {
          "output_type": "stream",
          "name": "stdout",
          "text": [
            "362880\n"
          ]
        }
      ]
    },
    {
      "cell_type": "markdown",
      "source": [
        "Q 13) Python program to find factorial."
      ],
      "metadata": {
        "id": "F99saVqApSZ6"
      }
    },
    {
      "cell_type": "code",
      "source": [
        "#Python program to calculate factorial.\n",
        "numb=int(input(\"Enter a number: \"))\n",
        "factorial = 1\n",
        "\n",
        "#Using if, elif and else condition to find factorial\n",
        "if num<0:\n",
        "  print(\"Factorial do not exist.\")\n",
        "elif numb==0:\n",
        "  print(\"Factorial 0= 1\")\n",
        "else:\n",
        "  for x in range(1, numb+1):\n",
        "      factorial = factorial*x\n",
        "  print(\"The factorial of\", numb, \"is\" , factorial)\n"
      ],
      "metadata": {
        "id": "rUubpbiIwiUM",
        "colab": {
          "base_uri": "https://localhost:8080/"
        },
        "outputId": "40058ac4-47f4-48dc-ae47-9e183c3eb389"
      },
      "execution_count": 24,
      "outputs": [
        {
          "output_type": "stream",
          "name": "stdout",
          "text": [
            "Enter a number: 5\n",
            "The factorial of 5 is 120\n"
          ]
        }
      ]
    },
    {
      "cell_type": "markdown",
      "source": [
        "Q14) Python program to check given number is even or odd. "
      ],
      "metadata": {
        "id": "DZhSXbaJ4h_k"
      }
    },
    {
      "cell_type": "code",
      "source": [
        "number=int(input(\"Enter a number: \"))\n",
        "\n",
        "#Using if and else condition to find factorial\n",
        "if number%2==0:\n",
        "  print(\"Number = \", number,\"\\n\"\"This is an even number.\")\n",
        "else:\n",
        "  print(\"Number = \", number,\"\\n\"\"This is an odd number.\")"
      ],
      "metadata": {
        "colab": {
          "base_uri": "https://localhost:8080/"
        },
        "id": "HE8tAketrDSP",
        "outputId": "ca48374f-8cfd-4b01-cff6-bb797ceac197"
      },
      "execution_count": 25,
      "outputs": [
        {
          "output_type": "stream",
          "name": "stdout",
          "text": [
            "Enter a number: 33\n",
            "Number =  33 \n",
            "This is an odd number.\n"
          ]
        }
      ]
    },
    {
      "cell_type": "markdown",
      "source": [
        "Q15) Python program to print first n Prime Number."
      ],
      "metadata": {
        "id": "kDZdFFddr7X8"
      }
    },
    {
      "cell_type": "code",
      "source": [
        "number=int(input(\"Enter range of numbers: \"))\n",
        "\n",
        "print(\"Prime numbers in the given range of numbers are: \", end=' ')\n",
        "\n",
        "#Running a for loop and if else condition to find prime numbers\n",
        "for a in range(1,number):\n",
        "    for b in range (2,a):\n",
        "        if(a%b==0):\n",
        "            break\n",
        "    \n",
        "    else:\n",
        "        print(a,end=' ')"
      ],
      "metadata": {
        "colab": {
          "base_uri": "https://localhost:8080/"
        },
        "id": "lojLe3wKsKvl",
        "outputId": "0d8343ad-d74c-47ca-a574-d951e1764df1"
      },
      "execution_count": 26,
      "outputs": [
        {
          "output_type": "stream",
          "name": "stdout",
          "text": [
            "Enter range of numbers: 87\n",
            "Prime numbers in the given range of numbers are:  1 2 3 5 7 11 13 17 19 23 29 31 37 41 43 47 53 59 61 67 71 73 79 83 "
          ]
        }
      ]
    },
    {
      "cell_type": "markdown",
      "source": [
        "Q16) Python Program to print Prime Number in a given range.\n"
      ],
      "metadata": {
        "id": "wouNnKWOxCle"
      }
    },
    {
      "cell_type": "code",
      "source": [
        "# Python program to find prime numbers in range \n",
        "\n",
        "lower_limit=int(input(\"Enter the lower limit of prime number: \"))\n",
        "higher_limit=int(input(\"Enter the higher limit of prime number: \"))\n",
        "\n",
        "prime_numbers = []\n",
        "\n",
        "#Using for loop to get prime numbers in desired range\n",
        "for p in range(lower_limit,higher_limit+1):\n",
        "    flag = 0\n",
        "\n",
        "    if p < 2:\n",
        "        continue\n",
        "    if p==2:\n",
        "      prime_numbers.append(2)\n",
        "      continue\n",
        "\n",
        "    for q in range (2,p):\n",
        "        if p % q ==0:\n",
        "            flag = 1\n",
        "            break\n",
        "\n",
        "    if flag==0:\n",
        "         prime_numbers.append(p)\n",
        "\n",
        "print(\"The prime numbers in the given range\", lower_limit, \"-\",higher_limit,\"is:\")\n",
        "\"\\n\"\n",
        "print(prime_numbers)"
      ],
      "metadata": {
        "colab": {
          "base_uri": "https://localhost:8080/"
        },
        "id": "yXNW3YZgrhBx",
        "outputId": "43c0083f-7932-4c21-b137-ba72df494693"
      },
      "execution_count": 27,
      "outputs": [
        {
          "output_type": "stream",
          "name": "stdout",
          "text": [
            "Enter the lower limit of prime number: 1\n",
            "Enter the higher limit of prime number: 12\n",
            "The prime numbers in the given range 1 - 12 is:\n",
            "[2, 3, 5, 7, 11]\n"
          ]
        }
      ]
    },
    {
      "cell_type": "code",
      "source": [
        "Q17) Python Program to find smallest number among three."
      ],
      "metadata": {
        "id": "ruuKXhke0L3a"
      },
      "execution_count": null,
      "outputs": []
    },
    {
      "cell_type": "code",
      "source": [
        "x=int(input(\"Enter value for first number, x: \"))\n",
        "y=int(input(\"Enter value for second number, y: \"))\n",
        "z=int(input(\"Enter value for third number, z: \"))\n",
        "\n",
        "#Comparing integer 'x' with other two integer values\n",
        "\n",
        "if x<=y and x<=z:\n",
        "        print(x,\" is the smallest among three.\")\n",
        "\n",
        "#Comparing integer 'y' with other two integers\n",
        "\n",
        "if y<=x and y<=z:\n",
        "        print(y,\" is the smallest among three.\")\n",
        "\n",
        "#Comparing integer 'z' with other two integers\n",
        "\n",
        "if z<=x and z<=y:\n",
        "        print(z,\" is the smallest among three.\")\n",
        "\n",
        "        "
      ],
      "metadata": {
        "colab": {
          "base_uri": "https://localhost:8080/"
        },
        "id": "5ZSU4pWS1WhP",
        "outputId": "bd470a33-32f9-469c-a84d-b4cd1824cc7d"
      },
      "execution_count": 28,
      "outputs": [
        {
          "output_type": "stream",
          "name": "stdout",
          "text": [
            "Enter value for first number, x: 45\n",
            "Enter value for second number, y: 100\n",
            "Enter value for third number, z: 34\n",
            "34  is the smallest among three.\n"
          ]
        }
      ]
    },
    {
      "cell_type": "code",
      "source": [
        "Q18) Python program to calculate the power using the POW method."
      ],
      "metadata": {
        "id": "wEC3YL8Z3DeC"
      },
      "execution_count": null,
      "outputs": []
    },
    {
      "cell_type": "code",
      "source": [
        "#Taking two input numbers from user\n",
        "\n",
        "base= int(input(\"Enter the number for base: \"))\n",
        "exponent=int(input(\"Enter the number for exponent: \"))\n",
        "print(base,\"raise to the power\",exponent,\"=\",end=' ')\n",
        "print(pow(base,exponent))"
      ],
      "metadata": {
        "colab": {
          "base_uri": "https://localhost:8080/"
        },
        "id": "elDTuFoJ31Hn",
        "outputId": "142e55d8-eb2a-40c2-dd30-e460ce3bfde1"
      },
      "execution_count": 29,
      "outputs": [
        {
          "output_type": "stream",
          "name": "stdout",
          "text": [
            "Enter the number for base: 4\n",
            "Enter the number for exponent: 3\n",
            "4 raise to the power 3 = 64\n"
          ]
        }
      ]
    },
    {
      "cell_type": "code",
      "source": [
        "Q19) Python Program to calculate square of a given number."
      ],
      "metadata": {
        "id": "DLig-2sA47nm"
      },
      "execution_count": null,
      "outputs": []
    },
    {
      "cell_type": "code",
      "source": [
        "import math\n",
        "\n",
        "#To calculate square take input from user\n",
        "number= int(input(\"Enter a number to calculate square: \"))\n",
        "print(\"The square of the given number is: \",number,\"x\",number)\n",
        "print(\"Square=\",math.pow(number,2))"
      ],
      "metadata": {
        "colab": {
          "base_uri": "https://localhost:8080/"
        },
        "id": "L_WldxAQ5zIo",
        "outputId": "85554965-b7aa-4ef1-b03e-6144fb22a52d"
      },
      "execution_count": 30,
      "outputs": [
        {
          "output_type": "stream",
          "name": "stdout",
          "text": [
            "Enter a number to calculate square: 12\n",
            "The square of the given number is:  12 x 12\n",
            "Square= 144.0\n"
          ]
        }
      ]
    },
    {
      "cell_type": "markdown",
      "source": [
        "Q20) Python Program to calculate the cube of a given number."
      ],
      "metadata": {
        "id": "cqTmJLNZ7c3-"
      }
    },
    {
      "cell_type": "code",
      "source": [
        "#Importing math module\n",
        "import math\n",
        "number= int(input(\"Enter a number to calculate cube: \"))\n",
        "\n",
        "#Calculating the cube using power function\n",
        "print(\"The cube of the given number is: \",number,\"x\",number,\"x\",number)\n",
        "print(\"Cube=\", math.pow(number,3))\n"
      ],
      "metadata": {
        "colab": {
          "base_uri": "https://localhost:8080/"
        },
        "id": "AhpccjB952Kh",
        "outputId": "531f4654-54bb-4926-c4ea-e7b0f1bbcea3"
      },
      "execution_count": 31,
      "outputs": [
        {
          "output_type": "stream",
          "name": "stdout",
          "text": [
            "Enter a number to calculate cube: 5\n",
            "The cube of the given number is:  5 x 5 x 5\n",
            "Cube= 125.0\n"
          ]
        }
      ]
    },
    {
      "cell_type": "code",
      "source": [
        "Q21) Python Program to calculate square root of a given number."
      ],
      "metadata": {
        "id": "bvz5ciUp764a"
      },
      "execution_count": null,
      "outputs": []
    },
    {
      "cell_type": "code",
      "source": [
        "#Importing math module\n",
        "import math\n",
        "\n",
        "#Take input from the user to calculate square root\n",
        "\n",
        "number=int(input(\"Enter a number: \"))\n",
        "\n",
        "#Checking if the input number is negative\n",
        "\n",
        "if number<0:\n",
        "  print(\"Negative numbers square root do not exist.\")\n",
        "else:\n",
        "  print(\"Square root of given number\",number,\"is:\",\"\\n\",math.sqrt(number))"
      ],
      "metadata": {
        "colab": {
          "base_uri": "https://localhost:8080/"
        },
        "id": "XntdH-TZ8Ynl",
        "outputId": "ed2df65e-92fc-44bd-af8a-0ce75badcb8d"
      },
      "execution_count": 34,
      "outputs": [
        {
          "output_type": "stream",
          "name": "stdout",
          "text": [
            "Enter a number: 121\n",
            "Square root of given number 121 is: \n",
            " 11.0\n"
          ]
        }
      ]
    },
    {
      "cell_type": "code",
      "source": [
        "Q22) Python Program to Convert Decimal Number into Binary. "
      ],
      "metadata": {
        "id": "frbaiJvm9gEy"
      },
      "execution_count": null,
      "outputs": []
    },
    {
      "cell_type": "code",
      "source": [
        "#A function is defined using def keyword\n",
        "def convertToBinary(x):\n",
        "   if x>1:\n",
        "      convertToBinary(x // 2)\n",
        "   print(x % 2, end='')\n",
        "\n",
        "#To get input from user\n",
        "decimal_number=int(input(\"Enter a decimal number: \"))\n",
        "print(decimal_number)\n",
        "\n",
        "convertToBinary(decimal_number)\n",
        "print()"
      ],
      "metadata": {
        "colab": {
          "base_uri": "https://localhost:8080/"
        },
        "id": "Du7U7DNhqn_v",
        "outputId": "21a140f3-e2b2-4128-aa2e-559d7f207924"
      },
      "execution_count": 36,
      "outputs": [
        {
          "output_type": "stream",
          "name": "stdout",
          "text": [
            "Enter a decimal number: 22\n",
            "22\n",
            "10110\n"
          ]
        }
      ]
    },
    {
      "cell_type": "markdown",
      "source": [
        "Q23) Python program to convert Decimal number to Octal number."
      ],
      "metadata": {
        "id": "9vvnYKvulmjV"
      }
    },
    {
      "cell_type": "code",
      "source": [
        "def convertToOctal(x):\n",
        "   if x>1:\n",
        "      convertToOctal(x // 8)\n",
        "   print(x % 8, end='')\n",
        "\n",
        "#To get input from user\n",
        "octal_number=int(input(\"Enter a decimal number: \"))\n",
        "print(octal_number)\n",
        "\n",
        "convertToOctal(octal_number)\n",
        "print()"
      ],
      "metadata": {
        "colab": {
          "base_uri": "https://localhost:8080/"
        },
        "outputId": "1c888e33-2425-42db-e9f5-4ddf21883196",
        "id": "NgIyn9cEwdzB"
      },
      "execution_count": 37,
      "outputs": [
        {
          "output_type": "stream",
          "name": "stdout",
          "text": [
            "Enter a decimal number: 1032\n",
            "1032\n",
            "02010\n"
          ]
        }
      ]
    },
    {
      "cell_type": "code",
      "source": [
        "#A function is defined using def keyword\n",
        "def convertToBinary(x):\n",
        "   if x>1:\n",
        "      convertToBinary(x // 2)\n",
        "   print(x % 2, end='')\n",
        "\n",
        "#To get input from user\n",
        "decimal_number=int(input(\"Enter a decimal number: \"))\n",
        "print(decimal_number)\n",
        "\n",
        "convertToBinary(decimal_number)\n",
        "print()"
      ],
      "metadata": {
        "colab": {
          "base_uri": "https://localhost:8080/"
        },
        "outputId": "9400bf77-e68e-44d5-ef7d-4c9940e0fb03",
        "id": "EXdTdTZvWYO1"
      },
      "execution_count": 38,
      "outputs": [
        {
          "output_type": "stream",
          "name": "stdout",
          "text": [
            "Enter a decimal number: 34\n",
            "34\n",
            "100010\n"
          ]
        }
      ]
    },
    {
      "cell_type": "markdown",
      "source": [
        "Q24) Python Program to check the given year is a leap year or not."
      ],
      "metadata": {
        "id": "Ct87wggrmVSk"
      }
    },
    {
      "cell_type": "code",
      "source": [
        "#Python program to check if given year is a leap year or not.\n",
        "\n",
        "#To get integer input from the user\n",
        "year = int(input(\"Enter the year: \"))\n",
        "\n",
        "#As the year divided by 100 it is a century year (as the ending digits 00)\n",
        "#Century year divided by 400 yielding 0 as remainder is leap year\n",
        "\n",
        "if (year % 400 == 0) and (year % 100 == 0):\n",
        "    print(year, \"is a leap year\")\n",
        "\n",
        "#If not divisible by 100 yields a century year\n",
        "#Year if divided by 4 shows that it is a leap year\n",
        "\n",
        "elif (year % 4 == 0) and (year % 100 != 0):\n",
        "    print(year, \"is a leap year\")\n",
        "\n",
        "# If year is not divisible by both 400 (century year) and 4 (not century year)\n",
        "#this means year is not a leap year\n",
        "else:\n",
        "  print(year,\"is not a leap year\")\n"
      ],
      "metadata": {
        "colab": {
          "base_uri": "https://localhost:8080/"
        },
        "id": "C_P4TD6xx0mj",
        "outputId": "5954bc5d-35f3-4603-ee01-394bb6f88507"
      },
      "execution_count": 39,
      "outputs": [
        {
          "output_type": "stream",
          "name": "stdout",
          "text": [
            "Enter the year: 2004\n",
            "2004 is a leap year\n"
          ]
        }
      ]
    },
    {
      "cell_type": "markdown",
      "source": [
        "Q25) Python Program to convert Celsius to Fahrenheit. "
      ],
      "metadata": {
        "id": "MKY26bN4mmqe"
      }
    },
    {
      "cell_type": "code",
      "source": [
        "#Python program to convert temperature Celsius to Fahrenheit.\n",
        "\n",
        "#Taking celsius float input from user\n",
        "celsius=float(input(\"Enter a celsius value: \"))\n",
        "\n",
        "#Calculate value of fahrenheit\n",
        "fahrenheit=(celsius * 1.8) + 32\n",
        "print(\"The value conversion from Celsius to Fahrenheit: \", fahrenheit)\n"
      ],
      "metadata": {
        "colab": {
          "base_uri": "https://localhost:8080/"
        },
        "id": "zZl68JcL2ptD",
        "outputId": "8ca7b5a8-a204-4d5a-d339-723a9d51354a"
      },
      "execution_count": 42,
      "outputs": [
        {
          "output_type": "stream",
          "name": "stdout",
          "text": [
            "Enter a celsius value: 37.0\n",
            "The value conversion from Celsius to Fahrenheit:  98.60000000000001\n"
          ]
        }
      ]
    },
    {
      "cell_type": "markdown",
      "source": [
        "Q26) Python Program to convert Fahrenheit to Celsius."
      ],
      "metadata": {
        "id": "v4U4sehemy3N"
      }
    },
    {
      "cell_type": "code",
      "source": [
        "#Python program to convert temperature Fahrenheit to Celsius.\n",
        "\n",
        "#taking fahrenheit float input from user\n",
        "fahrenheit=float(input(\"Enter a fahrenheit value: \"))\n",
        "\n",
        "#calculate value of fahrenheit\n",
        "celsius=(fahrenheit-32) / 1.8\n",
        "print(\"The value conversion from Fahrenheit to Celsius: \", celsius)\n"
      ],
      "metadata": {
        "colab": {
          "base_uri": "https://localhost:8080/"
        },
        "outputId": "fc4af51c-fea1-410c-f558-db9f8e32c6a9",
        "id": "_ZKx11Ju5vwi"
      },
      "execution_count": 43,
      "outputs": [
        {
          "output_type": "stream",
          "name": "stdout",
          "text": [
            "Enter a fahrenheit value: 98.6\n",
            "The value conversion from Fahrenheit to Celsius:  36.99999999999999\n"
          ]
        }
      ]
    },
    {
      "cell_type": "code",
      "source": [
        ""
      ],
      "metadata": {
        "id": "6RAMGKqR6FGL"
      },
      "execution_count": null,
      "outputs": []
    }
  ]
}